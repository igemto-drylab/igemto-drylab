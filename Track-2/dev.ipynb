{
 "cells": [
  {
   "cell_type": "code",
   "execution_count": 4,
   "metadata": {},
   "outputs": [],
   "source": [
    "import torch\n",
    "import numpy as np \n",
    "import os\n",
    "import pandas as pd\n",
    "import pickle\n",
    "from datasets import MeltomeUnirepDataset\n",
    "import models\n",
    "from torch.utils.data import DataLoader"
   ]
  },
  {
   "cell_type": "code",
   "execution_count": 6,
   "metadata": {},
   "outputs": [],
   "source": [
    "# set unirep vector directory, and the path to the dictionary that contains the labels\n",
    "URdir = \"../datasets/Meltome_Vecs\"\n",
    "dict_path = \"../datasets/protID2MT.p\"\n",
    "# creating a dataset\n",
    "MUData = MeltomeUnirepDataset(URdir=URdir, dictPath=dict_path, data=\"train\")\n",
    "# creating a dataloader\n",
    "loader = DataLoader(MUData, batch_size = 10, shuffle=True, num_workers=1)"
   ]
  },
  {
   "cell_type": "code",
   "execution_count": 7,
   "metadata": {},
   "outputs": [],
   "source": [
    "import torch.optim as optimizer\n",
    "import torch.nn as nn\n",
    "\n",
    "# creating a classifier\n",
    "model = models.SimpleNN(h_units=64)\n",
    "\n",
    "# defining a loss function and optimizer\n",
    "loss_fn = nn.MSELoss()\n",
    "adam =  optimizer.Adam(model.parameters(), lr=0.0003)"
   ]
  },
  {
   "cell_type": "code",
   "execution_count": 8,
   "metadata": {},
   "outputs": [
    {
     "output_type": "stream",
     "name": "stdout",
     "text": "cuda:0\n"
    }
   ],
   "source": [
    "# determining if able to use gpu\n",
    "\n",
    "device = torch.device(\"cuda:0\" if torch.cuda.is_available() else \"cpu\")\n",
    "print(device)"
   ]
  },
  {
   "cell_type": "code",
   "execution_count": null,
   "metadata": {},
   "outputs": [],
   "source": [
    "# training the classifier\n",
    "model.to(device)\n",
    "\n",
    "for epoch in range(2):\n",
    "    running_loss = 0.0\n",
    "    for i, data in enumerate(loader):\n",
    "        data = MUData[i]\n",
    "        inputs, label = data[\"vec\"].to(device), data[\"meltingTemp\"].to(device)\n",
    "\n",
    "        adam.zero_grad()\n",
    "\n",
    "        output = model(inputs)\n",
    "        loss = loss_fn(output, label)\n",
    "        loss.backward()\n",
    "        adam.step()\n",
    "\n",
    "        running_loss += loss.item()\n",
    "        if i % 2000 == 1999:    # print every 2000 mini-batches\n",
    "            print('[%d, %5d] loss: %.3f' %\n",
    "                  (epoch + 1, i + 1, running_loss / 2000))\n",
    "            running_loss = 0.0\n"
   ]
  },
  {
   "cell_type": "code",
   "execution_count": 17,
   "metadata": {},
   "outputs": [],
   "source": [
    "# splitting dataset into 3 folders\n",
    "ds = []\n",
    "for _, _, files in os.walk(URdir):\n",
    "    for name in files:\n",
    "        ds.append(name)"
   ]
  },
  {
   "cell_type": "code",
   "execution_count": 19,
   "metadata": {},
   "outputs": [],
   "source": [
    "import random\n",
    "random.shuffle(ds)"
   ]
  },
  {
   "cell_type": "code",
   "execution_count": 20,
   "metadata": {},
   "outputs": [
    {
     "output_type": "stream",
     "name": "stdout",
     "text": "31817\n"
    }
   ],
   "source": [
    "print(len(ds))"
   ]
  },
  {
   "cell_type": "code",
   "execution_count": 21,
   "metadata": {},
   "outputs": [
    {
     "output_type": "stream",
     "name": "stdout",
     "text": "['Q9ESZ8.npy', 'Q8L970.npy', 'P0A7R1.npy', 'G5E8U6.npy', 'Q9SGN6.npy', 'D6VPA0.npy', 'Q72J48.npy', 'Q9NES9.npy', 'P94534.npy', 'P0AB28.npy']\n"
    }
   ],
   "source": [
    "print(ds[0:10])"
   ]
  },
  {
   "cell_type": "code",
   "execution_count": 22,
   "metadata": {},
   "outputs": [],
   "source": [
    "import shutil\n",
    "\n",
    "trainfiles = ds[0:int(len(ds) * 0.8)]\n",
    "valfiles = ds[int(len(ds) * 0.8):int(len(ds) * 0.9)]\n",
    "testfiles = ds[int(len(ds) * 0.9):]"
   ]
  },
  {
   "cell_type": "code",
   "execution_count": 25,
   "metadata": {},
   "outputs": [],
   "source": [
    "for f in testfiles:\n",
    "    shutil.move(URdir+\"/\"+f, \"UniRep_Vecs/test\")"
   ]
  },
  {
   "cell_type": "code",
   "execution_count": null,
   "metadata": {},
   "outputs": [],
   "source": []
  }
 ],
 "metadata": {
  "language_info": {
   "codemirror_mode": {
    "name": "ipython",
    "version": 3
   },
   "file_extension": ".py",
   "mimetype": "text/x-python",
   "name": "python",
   "nbconvert_exporter": "python",
   "pygments_lexer": "ipython3",
   "version": "3.8.2-final"
  },
  "orig_nbformat": 2,
  "kernelspec": {
   "name": "python38264bitpetenvvenvd7bac91282834248a01efa37beaa4bad",
   "display_name": "Python 3.8.2 64-bit ('PETenv': venv)"
  }
 },
 "nbformat": 4,
 "nbformat_minor": 2
}