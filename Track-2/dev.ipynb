{
 "cells": [
  {
   "cell_type": "code",
   "execution_count": 1,
   "metadata": {},
   "outputs": [],
   "source": [
    "import torch\n",
    "import numpy as np \n",
    "import os\n",
    "import pandas as pd\n",
    "import pickle\n",
    "# creating dataloader\n",
    "from dataloader import MeltomeUnirepDataset "
   ]
  },
  {
   "cell_type": "code",
   "execution_count": 4,
   "metadata": {},
   "outputs": [],
   "source": [
    "# tester code\n",
    "URdir = \"../datasets/UniRep_Vecs\"\n",
    "dict_path = \"../datasets/protID2MT.p\"\n",
    "MUData = MeltomeUnirepDataset(URdir=URdir, dictPath=dict_path)"
   ]
  },
  {
   "cell_type": "code",
   "execution_count": null,
   "metadata": {},
   "outputs": [],
   "source": []
  }
 ],
 "metadata": {
  "language_info": {
   "codemirror_mode": {
    "name": "ipython",
    "version": 3
   },
   "file_extension": ".py",
   "mimetype": "text/x-python",
   "name": "python",
   "nbconvert_exporter": "python",
   "pygments_lexer": "ipython3",
   "version": "3.8.2-final"
  },
  "orig_nbformat": 2,
  "kernelspec": {
   "name": "python38264bitpetenvvenvd7bac91282834248a01efa37beaa4bad",
   "display_name": "Python 3.8.2 64-bit ('PETenv': venv)"
  }
 },
 "nbformat": 4,
 "nbformat_minor": 2
}