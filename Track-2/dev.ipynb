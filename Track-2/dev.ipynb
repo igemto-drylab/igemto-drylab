{
 "cells": [
  {
   "cell_type": "code",
   "execution_count": null,
   "metadata": {},
   "outputs": [],
   "source": [
    "import torch\n",
    "import numpy as np \n",
    "import os\n",
    "import pandas as pd\n",
    "import pickle\n",
    "from dataloader import MeltomeUnirepDataset\n",
    "import models"
   ]
  },
  {
   "cell_type": "code",
   "execution_count": null,
   "metadata": {},
   "outputs": [],
   "source": [
    "# creating dataloader\n",
    "URdir = \"../datasets/UniRep_Vecs\"\n",
    "dict_path = \"../datasets/protID2MT.p\"\n",
    "MUData = MeltomeUnirepDataset(URdir=URdir, dictPath=dict_path)"
   ]
  },
  {
   "cell_type": "code",
   "execution_count": null,
   "metadata": {},
   "outputs": [],
   "source": [
    "import torch.optim as optimizer\n",
    "import torch.nn as nn\n",
    "\n",
    "# creating a classifier\n",
    "model = models.SimpleNN(h_units=64)\n",
    "\n",
    "# defining a loss function and optimizer\n",
    "loss_fn = nn.MSELoss()\n",
    "adam =  optimizer.Adam(model.parameters(), lr=0.0003)"
   ]
  },
  {
   "cell_type": "code",
   "execution_count": null,
   "metadata": {},
   "outputs": [],
   "source": [
    "# determining if able to use gpu\n",
    "\n",
    "device = torch.device(\"cuda:0\" if torch.cuda.is_available() else \"cpu\")\n",
    "print(device)"
   ]
  },
  {
   "cell_type": "code",
   "execution_count": null,
   "metadata": {},
   "outputs": [],
   "source": [
    "# training the classifier\n",
    "model.to(device)\n",
    "\n",
    "for epoch in range(2):\n",
    "    running_loss = 0.0\n",
    "    for i in range(len(MUData)):\n",
    "        data = MUData[i]\n",
    "        inputs, label = data[\"vec\"].to(device), data[\"meltingTemp\"].to(device)\n",
    "\n",
    "        adam.zero_grad()\n",
    "\n",
    "        output = model(inputs)\n",
    "        loss = loss_fn(output, label)\n",
    "        loss.backward()\n",
    "        adam.step()\n",
    "\n",
    "        running_loss += loss.item()\n",
    "        if i % 2000 == 1999:    # print every 2000 mini-batches\n",
    "            print('[%d, %5d] loss: %.3f' %\n",
    "                  (epoch + 1, i + 1, running_loss / 2000))\n",
    "            running_loss = 0.0\n"
   ]
  },
  {
   "cell_type": "code",
   "execution_count": null,
   "metadata": {},
   "outputs": [],
   "source": []
  }
 ],
 "metadata": {
  "language_info": {
   "codemirror_mode": {
    "name": "ipython",
    "version": 3
   },
   "file_extension": ".py",
   "mimetype": "text/x-python",
   "name": "python",
   "nbconvert_exporter": "python",
   "pygments_lexer": "ipython3",
   "version": "3.8.2-final"
  },
  "orig_nbformat": 2,
  "kernelspec": {
   "name": "python38264bitpetenvvenvd7bac91282834248a01efa37beaa4bad",
   "display_name": "Python 3.8.2 64-bit ('PETenv': venv)"
  }
 },
 "nbformat": 4,
 "nbformat_minor": 2
}