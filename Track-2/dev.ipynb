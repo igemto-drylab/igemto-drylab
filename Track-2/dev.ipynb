{
 "cells": [
  {
   "cell_type": "code",
   "execution_count": 1,
   "metadata": {},
   "outputs": [],
   "source": [
    "import torch\n",
    "import numpy as np \n",
    "import os\n",
    "import pandas as pd"
   ]
  },
  {
   "cell_type": "code",
   "execution_count": 18,
   "metadata": {},
   "outputs": [
    {
     "output_type": "execute_result",
     "data": {
      "text/plain": "  proteinID   meltTemp                                       temp&species  \\\n0    C0H3V2  56.693844  [(56.6938442790629, 'Bacillus subtilis_168_lys...   \n1    C0H3V8  43.373369  [(43.3733692335437, 'Bacillus subtilis_168_lys...   \n2    C0H3Y1  40.693719  [(40.69371854862, 'Bacillus subtilis_168_lysat...   \n3    C0H405  48.069618  [(48.0696175471916, 'Bacillus subtilis_168_lys...   \n4    C0H437  39.507236  [(39.5072356461209, 'Bacillus subtilis_168_lys...   \n\n                                            sequence  \n0  MQVLAKENIKLNQTVSSKEEAIKLAGQTLIDNGYVTEDYISKMFER...  \n1  MADKDFGLNDIVEMKKPHPCGANSWKIIRMGMDIRIKCEGCSHSVM...  \n2  MADYFLTVFDPSGNTLVNEQFEAEHEEAAKTHGEALLKEKELHSHT...  \n3  MRPEEITEMIEQLRTGAINELRVQKEHFLDFRAVLSKQDDFKHFRG...  \n4  MEEKYETNGYDTSIVYDYKEYPDVKYGRCDNCDYTLFKSSVKSGIF...  ",
      "text/html": "<div>\n<style scoped>\n    .dataframe tbody tr th:only-of-type {\n        vertical-align: middle;\n    }\n\n    .dataframe tbody tr th {\n        vertical-align: top;\n    }\n\n    .dataframe thead th {\n        text-align: right;\n    }\n</style>\n<table border=\"1\" class=\"dataframe\">\n  <thead>\n    <tr style=\"text-align: right;\">\n      <th></th>\n      <th>proteinID</th>\n      <th>meltTemp</th>\n      <th>temp&amp;species</th>\n      <th>sequence</th>\n    </tr>\n  </thead>\n  <tbody>\n    <tr>\n      <th>0</th>\n      <td>C0H3V2</td>\n      <td>56.693844</td>\n      <td>[(56.6938442790629, 'Bacillus subtilis_168_lys...</td>\n      <td>MQVLAKENIKLNQTVSSKEEAIKLAGQTLIDNGYVTEDYISKMFER...</td>\n    </tr>\n    <tr>\n      <th>1</th>\n      <td>C0H3V8</td>\n      <td>43.373369</td>\n      <td>[(43.3733692335437, 'Bacillus subtilis_168_lys...</td>\n      <td>MADKDFGLNDIVEMKKPHPCGANSWKIIRMGMDIRIKCEGCSHSVM...</td>\n    </tr>\n    <tr>\n      <th>2</th>\n      <td>C0H3Y1</td>\n      <td>40.693719</td>\n      <td>[(40.69371854862, 'Bacillus subtilis_168_lysat...</td>\n      <td>MADYFLTVFDPSGNTLVNEQFEAEHEEAAKTHGEALLKEKELHSHT...</td>\n    </tr>\n    <tr>\n      <th>3</th>\n      <td>C0H405</td>\n      <td>48.069618</td>\n      <td>[(48.0696175471916, 'Bacillus subtilis_168_lys...</td>\n      <td>MRPEEITEMIEQLRTGAINELRVQKEHFLDFRAVLSKQDDFKHFRG...</td>\n    </tr>\n    <tr>\n      <th>4</th>\n      <td>C0H437</td>\n      <td>39.507236</td>\n      <td>[(39.5072356461209, 'Bacillus subtilis_168_lys...</td>\n      <td>MEEKYETNGYDTSIVYDYKEYPDVKYGRCDNCDYTLFKSSVKSGIF...</td>\n    </tr>\n  </tbody>\n</table>\n</div>"
     },
     "metadata": {},
     "execution_count": 18
    }
   ],
   "source": [
    "# creating a dictionary that converts from uniprotKB IDs to melting temps\n",
    "\n",
    "data_filepath = \"../datasets/meltome_full.csv\"\n",
    "df = pd.read_csv(data_filepath)\n",
    "df.head()"
   ]
  },
  {
   "cell_type": "code",
   "execution_count": null,
   "metadata": {},
   "outputs": [],
   "source": []
  }
 ],
 "metadata": {
  "language_info": {
   "codemirror_mode": {
    "name": "ipython",
    "version": 3
   },
   "file_extension": ".py",
   "mimetype": "text/x-python",
   "name": "python",
   "nbconvert_exporter": "python",
   "pygments_lexer": "ipython3",
   "version": "3.8.2-final"
  },
  "orig_nbformat": 2,
  "kernelspec": {
   "name": "python38264bitpetenvvenvd7bac91282834248a01efa37beaa4bad",
   "display_name": "Python 3.8.2 64-bit ('PETenv': venv)"
  }
 },
 "nbformat": 4,
 "nbformat_minor": 2
}