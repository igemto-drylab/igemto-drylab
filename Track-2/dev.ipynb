{
 "cells": [
  {
   "cell_type": "code",
   "execution_count": 5,
   "metadata": {},
   "outputs": [],
   "source": [
    "import torch\n",
    "import numpy as np \n",
    "import os\n",
    "import pandas as pd"
   ]
  },
  {
   "cell_type": "code",
   "execution_count": 6,
   "metadata": {},
   "outputs": [
    {
     "output_type": "execute_result",
     "data": {
      "text/plain": "  proteinID   meltTemp                                       temp&species  \\\n0    C0H3V2  56.693844  [(56.6938442790629, 'Bacillus subtilis_168_lys...   \n1    C0H3V8  43.373369  [(43.3733692335437, 'Bacillus subtilis_168_lys...   \n2    C0H3Y1  40.693719  [(40.69371854862, 'Bacillus subtilis_168_lysat...   \n3    C0H405  48.069618  [(48.0696175471916, 'Bacillus subtilis_168_lys...   \n4    C0H437  39.507236  [(39.5072356461209, 'Bacillus subtilis_168_lys...   \n\n                                            sequence  \n0  MQVLAKENIKLNQTVSSKEEAIKLAGQTLIDNGYVTEDYISKMFER...  \n1  MADKDFGLNDIVEMKKPHPCGANSWKIIRMGMDIRIKCEGCSHSVM...  \n2  MADYFLTVFDPSGNTLVNEQFEAEHEEAAKTHGEALLKEKELHSHT...  \n3  MRPEEITEMIEQLRTGAINELRVQKEHFLDFRAVLSKQDDFKHFRG...  \n4  MEEKYETNGYDTSIVYDYKEYPDVKYGRCDNCDYTLFKSSVKSGIF...  ",
      "text/html": "<div>\n<style scoped>\n    .dataframe tbody tr th:only-of-type {\n        vertical-align: middle;\n    }\n\n    .dataframe tbody tr th {\n        vertical-align: top;\n    }\n\n    .dataframe thead th {\n        text-align: right;\n    }\n</style>\n<table border=\"1\" class=\"dataframe\">\n  <thead>\n    <tr style=\"text-align: right;\">\n      <th></th>\n      <th>proteinID</th>\n      <th>meltTemp</th>\n      <th>temp&amp;species</th>\n      <th>sequence</th>\n    </tr>\n  </thead>\n  <tbody>\n    <tr>\n      <th>0</th>\n      <td>C0H3V2</td>\n      <td>56.693844</td>\n      <td>[(56.6938442790629, 'Bacillus subtilis_168_lys...</td>\n      <td>MQVLAKENIKLNQTVSSKEEAIKLAGQTLIDNGYVTEDYISKMFER...</td>\n    </tr>\n    <tr>\n      <th>1</th>\n      <td>C0H3V8</td>\n      <td>43.373369</td>\n      <td>[(43.3733692335437, 'Bacillus subtilis_168_lys...</td>\n      <td>MADKDFGLNDIVEMKKPHPCGANSWKIIRMGMDIRIKCEGCSHSVM...</td>\n    </tr>\n    <tr>\n      <th>2</th>\n      <td>C0H3Y1</td>\n      <td>40.693719</td>\n      <td>[(40.69371854862, 'Bacillus subtilis_168_lysat...</td>\n      <td>MADYFLTVFDPSGNTLVNEQFEAEHEEAAKTHGEALLKEKELHSHT...</td>\n    </tr>\n    <tr>\n      <th>3</th>\n      <td>C0H405</td>\n      <td>48.069618</td>\n      <td>[(48.0696175471916, 'Bacillus subtilis_168_lys...</td>\n      <td>MRPEEITEMIEQLRTGAINELRVQKEHFLDFRAVLSKQDDFKHFRG...</td>\n    </tr>\n    <tr>\n      <th>4</th>\n      <td>C0H437</td>\n      <td>39.507236</td>\n      <td>[(39.5072356461209, 'Bacillus subtilis_168_lys...</td>\n      <td>MEEKYETNGYDTSIVYDYKEYPDVKYGRCDNCDYTLFKSSVKSGIF...</td>\n    </tr>\n  </tbody>\n</table>\n</div>"
     },
     "metadata": {},
     "execution_count": 6
    }
   ],
   "source": [
    "# creating a dictionary that converts from uniprotKB IDs to melting temps\n",
    "\n",
    "data_filepaths = [\"../datasets/cross_species_with_seq.csv\", \"../datasets/humans_with_seq.csv\"]\n",
    "df = pd.concat((pd.read_csv(f) for f in data_filepaths))\n",
    "df.head()"
   ]
  },
  {
   "cell_type": "code",
   "execution_count": 20,
   "metadata": {},
   "outputs": [
    {
     "output_type": "stream",
     "name": "stdout",
     "text": "dict_keys(['proteinID', 'meltTemp', 'temp&species', 'sequence'])\n"
    }
   ],
   "source": [
    "print(df_dict.keys())"
   ]
  },
  {
   "cell_type": "code",
   "execution_count": 26,
   "metadata": {},
   "outputs": [],
   "source": [
    "df_dict = df.to_dict(orient=\"list\")\n",
    "comp_list = {}\n",
    "templist1 = []\n",
    "templist2 = []\n",
    "idxlist = []\n",
    "for idx, protID, temp, tands, seq in zip(range(len(df_dict[\"proteinID\"])), *df_dict.values()):\n",
    "    if protID in comp_list:\n",
    "        templist1.append([protID, temp, tands, seq])\n",
    "        templist2.append(comp_list[protID][1:])\n",
    "        idxlist.append(idx)\n",
    "        idxlist.append(comp_list[protID][0])\n",
    "    else:\n",
    "        comp_list[protID] = [idx, protID, temp, tands, seq]"
   ]
  },
  {
   "cell_type": "code",
   "execution_count": 31,
   "metadata": {},
   "outputs": [],
   "source": [
    "finalist = []\n",
    "for dup1, dup2 in zip(templist1, templist1):\n",
    "    finalist.append([dup1[0], (dup1[1]+dup2[1])/2, eval(dup1[2]) + eval(dup2[2]), dup1[3]])"
   ]
  },
  {
   "cell_type": "code",
   "execution_count": 33,
   "metadata": {},
   "outputs": [
    {
     "output_type": "stream",
     "name": "stdout",
     "text": "48.466032212456035\n[(47.468103079195004, 'HepG2'), (53.6121327408271, 'HL60'), (47.093660412382604, 'HEK293T'), (48.2301285099145, 'HepG2'), (54.481647083268996, 'HL60'), (47.709835077825296, 'HEK293T'), (45.779352775648206, 'colon_cancer_spheroids'), (45.115210949647704, 'HepG2'), (45.7311111293388, 'HepG2'), (47.468103079195004, 'HepG2'), (53.6121327408271, 'HL60'), (47.093660412382604, 'HEK293T'), (48.2301285099145, 'HepG2'), (54.481647083268996, 'HL60'), (47.709835077825296, 'HEK293T'), (45.779352775648206, 'colon_cancer_spheroids'), (45.115210949647704, 'HepG2'), (45.7311111293388, 'HepG2')]\n"
    }
   ],
   "source": [
    "print(finalist[0][1])\n",
    "print(finalist[0][2])"
   ]
  },
  {
   "cell_type": "code",
   "execution_count": 54,
   "metadata": {},
   "outputs": [],
   "source": [
    "added = pd.DataFrame(finalist, columns=df.columns)"
   ]
  },
  {
   "cell_type": "code",
   "execution_count": 57,
   "metadata": {},
   "outputs": [],
   "source": [
    "fdf = pd.concat([df, added], ignore_index=True)"
   ]
  },
  {
   "cell_type": "code",
   "execution_count": 59,
   "metadata": {},
   "outputs": [],
   "source": [
    "fdf.to_csv(\"../datasets/meltome_full.csv\")"
   ]
  },
  {
   "cell_type": "code",
   "execution_count": null,
   "metadata": {},
   "outputs": [],
   "source": []
  }
 ],
 "metadata": {
  "language_info": {
   "codemirror_mode": {
    "name": "ipython",
    "version": 3
   },
   "file_extension": ".py",
   "mimetype": "text/x-python",
   "name": "python",
   "nbconvert_exporter": "python",
   "pygments_lexer": "ipython3",
   "version": "3.8.2-final"
  },
  "orig_nbformat": 2,
  "kernelspec": {
   "name": "python38264bitpetenvvenvd7bac91282834248a01efa37beaa4bad",
   "display_name": "Python 3.8.2 64-bit ('PETenv': venv)"
  }
 },
 "nbformat": 4,
 "nbformat_minor": 2
}